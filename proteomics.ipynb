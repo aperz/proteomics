{
 "cells": [
  {
   "cell_type": "code",
   "execution_count": 14,
   "metadata": {},
   "outputs": [],
   "source": [
    "import pandas as pd\n",
    "import seaborn as sns\n",
    "\n",
    "import matplotlib.pyplot as plt\n",
    "%matplotlib inline\n",
    "sns.set(color_codes=True)\n",
    "sns.set_context('paper', font_scale=2)"
   ]
  },
  {
   "cell_type": "code",
   "execution_count": 2,
   "metadata": {
    "collapsed": true
   },
   "outputs": [],
   "source": [
    "x = pd.DataFrame([[1,2,3], [3,4,5], [9,7,9]])"
   ]
  },
  {
   "cell_type": "code",
   "execution_count": null,
   "metadata": {
    "collapsed": true
   },
   "outputs": [],
   "source": []
  },
  {
   "cell_type": "code",
   "execution_count": 38,
   "metadata": {
    "scrolled": true
   },
   "outputs": [],
   "source": [
    "# Read in the data from the Excel spreadsheet. \n",
    "d = pd.read_excel(io='data/Proteomics Un and Sat Fat Heatmaps Data Analysis Panels.xlsx',\n",
    "                  sheetname='Fatty Acid', header=None)\n",
    "\n",
    "# The data is messy. Initial cleaning:\n",
    "# Select columns that contain the relevant data\n",
    "d = d[[21,25,26,27]]\n",
    "# Set column names to a second row in the current data\n",
    "d.columns = d.ix[1,:]\n",
    "# Remove missing data (na)\n",
    "d = d.ix[2:,:].dropna()\n",
    "# Set the row names (index) to gene names\n",
    "d = d.set_index(keys='Gene name', drop=True)\n",
    "\n",
    "# This is mostly cosmetic, but will show up in plots. Name the index and columns:\n",
    "d.columns.names = ['variable']\n",
    "d.index.names = ['gene']\n",
    "\n",
    "# For each column in the dataset, change the variable type to float,\n",
    "# so that the program treats them as numbers\n",
    "# d[c] returns the column with column name == c\n",
    "for c in d.columns:\n",
    "    d[c] = d[c].astype(float)\n",
    "\n",
    "# Sort the dataset according to values in th column 'HFD'\n",
    "d = d.sort_values(by='HFD', ascending=False)"
   ]
  },
  {
   "cell_type": "code",
   "execution_count": 39,
   "metadata": {
    "scrolled": false
   },
   "outputs": [
    {
     "name": "stdout",
     "output_type": "stream",
     "text": [
      "<class 'pandas.core.frame.DataFrame'>\n",
      "Index: 30 entries, Acox1 to Acot13\n",
      "Data columns (total 3 columns):\n",
      "LFD    30 non-null float64\n",
      "SFD    30 non-null float64\n",
      "HFD    30 non-null float64\n",
      "dtypes: float64(3)\n",
      "memory usage: 960.0+ bytes\n"
     ]
    }
   ],
   "source": [
    "d.info()"
   ]
  },
  {
   "cell_type": "code",
   "execution_count": 40,
   "metadata": {},
   "outputs": [
    {
     "data": {
      "text/html": [
       "<div>\n",
       "<table border=\"1\" class=\"dataframe\">\n",
       "  <thead>\n",
       "    <tr style=\"text-align: right;\">\n",
       "      <th>variable</th>\n",
       "      <th>LFD</th>\n",
       "      <th>SFD</th>\n",
       "      <th>HFD</th>\n",
       "    </tr>\n",
       "    <tr>\n",
       "      <th>gene</th>\n",
       "      <th></th>\n",
       "      <th></th>\n",
       "      <th></th>\n",
       "    </tr>\n",
       "  </thead>\n",
       "  <tbody>\n",
       "    <tr>\n",
       "      <th>Acox1</th>\n",
       "      <td>0.0</td>\n",
       "      <td>14.648063</td>\n",
       "      <td>126.685547</td>\n",
       "    </tr>\n",
       "    <tr>\n",
       "      <th>Acad11</th>\n",
       "      <td>0.0</td>\n",
       "      <td>-24.686184</td>\n",
       "      <td>49.644887</td>\n",
       "    </tr>\n",
       "    <tr>\n",
       "      <th>Hsd17b4</th>\n",
       "      <td>0.0</td>\n",
       "      <td>23.664884</td>\n",
       "      <td>33.893874</td>\n",
       "    </tr>\n",
       "    <tr>\n",
       "      <th>Acsl1</th>\n",
       "      <td>0.0</td>\n",
       "      <td>42.270700</td>\n",
       "      <td>23.525688</td>\n",
       "    </tr>\n",
       "    <tr>\n",
       "      <th>Cd36</th>\n",
       "      <td>0.0</td>\n",
       "      <td>-7.497351</td>\n",
       "      <td>8.154473</td>\n",
       "    </tr>\n",
       "    <tr>\n",
       "      <th>Cpt2</th>\n",
       "      <td>0.0</td>\n",
       "      <td>1.866005</td>\n",
       "      <td>5.850907</td>\n",
       "    </tr>\n",
       "    <tr>\n",
       "      <th>Ech1</th>\n",
       "      <td>0.0</td>\n",
       "      <td>-19.112419</td>\n",
       "      <td>5.733734</td>\n",
       "    </tr>\n",
       "    <tr>\n",
       "      <th>Acadv</th>\n",
       "      <td>0.0</td>\n",
       "      <td>0.791227</td>\n",
       "      <td>4.008306</td>\n",
       "    </tr>\n",
       "    <tr>\n",
       "      <th>Acadm</th>\n",
       "      <td>0.0</td>\n",
       "      <td>29.180182</td>\n",
       "      <td>2.933231</td>\n",
       "    </tr>\n",
       "    <tr>\n",
       "      <th>Etfdh</th>\n",
       "      <td>0.0</td>\n",
       "      <td>7.134730</td>\n",
       "      <td>0.049842</td>\n",
       "    </tr>\n",
       "    <tr>\n",
       "      <th>Hadhb</th>\n",
       "      <td>0.0</td>\n",
       "      <td>4.990610</td>\n",
       "      <td>-0.398510</td>\n",
       "    </tr>\n",
       "    <tr>\n",
       "      <th>Abcd3</th>\n",
       "      <td>0.0</td>\n",
       "      <td>-28.263130</td>\n",
       "      <td>-1.031842</td>\n",
       "    </tr>\n",
       "    <tr>\n",
       "      <th>Acadl</th>\n",
       "      <td>0.0</td>\n",
       "      <td>23.107467</td>\n",
       "      <td>-4.274000</td>\n",
       "    </tr>\n",
       "    <tr>\n",
       "      <th>Crat</th>\n",
       "      <td>0.0</td>\n",
       "      <td>-32.563829</td>\n",
       "      <td>-4.371637</td>\n",
       "    </tr>\n",
       "    <tr>\n",
       "      <th>Hadha</th>\n",
       "      <td>0.0</td>\n",
       "      <td>5.855600</td>\n",
       "      <td>-7.244460</td>\n",
       "    </tr>\n",
       "    <tr>\n",
       "      <th>Acads</th>\n",
       "      <td>0.0</td>\n",
       "      <td>-13.297563</td>\n",
       "      <td>-13.800997</td>\n",
       "    </tr>\n",
       "    <tr>\n",
       "      <th>Fabp4</th>\n",
       "      <td>0.0</td>\n",
       "      <td>-7.855472</td>\n",
       "      <td>-13.997505</td>\n",
       "    </tr>\n",
       "    <tr>\n",
       "      <th>Eci2</th>\n",
       "      <td>0.0</td>\n",
       "      <td>-27.780321</td>\n",
       "      <td>-16.747736</td>\n",
       "    </tr>\n",
       "    <tr>\n",
       "      <th>Hadh</th>\n",
       "      <td>0.0</td>\n",
       "      <td>-24.040207</td>\n",
       "      <td>-19.040382</td>\n",
       "    </tr>\n",
       "    <tr>\n",
       "      <th>Etfb</th>\n",
       "      <td>0.0</td>\n",
       "      <td>-10.364075</td>\n",
       "      <td>-19.699076</td>\n",
       "    </tr>\n",
       "    <tr>\n",
       "      <th>Echs1</th>\n",
       "      <td>0.0</td>\n",
       "      <td>-36.637375</td>\n",
       "      <td>-20.914723</td>\n",
       "    </tr>\n",
       "    <tr>\n",
       "      <th>Prkaca</th>\n",
       "      <td>0.0</td>\n",
       "      <td>2.257383</td>\n",
       "      <td>-20.964891</td>\n",
       "    </tr>\n",
       "    <tr>\n",
       "      <th>Crot</th>\n",
       "      <td>0.0</td>\n",
       "      <td>-34.507918</td>\n",
       "      <td>-21.247206</td>\n",
       "    </tr>\n",
       "    <tr>\n",
       "      <th>Etfa</th>\n",
       "      <td>0.0</td>\n",
       "      <td>-16.788024</td>\n",
       "      <td>-22.765092</td>\n",
       "    </tr>\n",
       "    <tr>\n",
       "      <th>Slc25a20</th>\n",
       "      <td>0.0</td>\n",
       "      <td>0.694318</td>\n",
       "      <td>-23.828932</td>\n",
       "    </tr>\n",
       "    <tr>\n",
       "      <th>Decr1</th>\n",
       "      <td>0.0</td>\n",
       "      <td>-4.788302</td>\n",
       "      <td>-24.520847</td>\n",
       "    </tr>\n",
       "    <tr>\n",
       "      <th>Eci1</th>\n",
       "      <td>0.0</td>\n",
       "      <td>-30.009751</td>\n",
       "      <td>-24.903944</td>\n",
       "    </tr>\n",
       "    <tr>\n",
       "      <th>Acaa2</th>\n",
       "      <td>0.0</td>\n",
       "      <td>-22.010945</td>\n",
       "      <td>-25.757487</td>\n",
       "    </tr>\n",
       "    <tr>\n",
       "      <th>Acaa1a/b</th>\n",
       "      <td>0.0</td>\n",
       "      <td>-8.927879</td>\n",
       "      <td>-26.370448</td>\n",
       "    </tr>\n",
       "    <tr>\n",
       "      <th>Acot13</th>\n",
       "      <td>0.0</td>\n",
       "      <td>-57.794749</td>\n",
       "      <td>-39.305355</td>\n",
       "    </tr>\n",
       "  </tbody>\n",
       "</table>\n",
       "</div>"
      ],
      "text/plain": [
       "variable  LFD        SFD         HFD\n",
       "gene                                \n",
       "Acox1     0.0  14.648063  126.685547\n",
       "Acad11    0.0 -24.686184   49.644887\n",
       "Hsd17b4   0.0  23.664884   33.893874\n",
       "Acsl1     0.0  42.270700   23.525688\n",
       "Cd36      0.0  -7.497351    8.154473\n",
       "Cpt2      0.0   1.866005    5.850907\n",
       "Ech1      0.0 -19.112419    5.733734\n",
       "Acadv     0.0   0.791227    4.008306\n",
       "Acadm     0.0  29.180182    2.933231\n",
       "Etfdh     0.0   7.134730    0.049842\n",
       "Hadhb     0.0   4.990610   -0.398510\n",
       "Abcd3     0.0 -28.263130   -1.031842\n",
       "Acadl     0.0  23.107467   -4.274000\n",
       "Crat      0.0 -32.563829   -4.371637\n",
       "Hadha     0.0   5.855600   -7.244460\n",
       "Acads     0.0 -13.297563  -13.800997\n",
       "Fabp4     0.0  -7.855472  -13.997505\n",
       "Eci2      0.0 -27.780321  -16.747736\n",
       "Hadh      0.0 -24.040207  -19.040382\n",
       "Etfb      0.0 -10.364075  -19.699076\n",
       "Echs1     0.0 -36.637375  -20.914723\n",
       "Prkaca    0.0   2.257383  -20.964891\n",
       "Crot      0.0 -34.507918  -21.247206\n",
       "Etfa      0.0 -16.788024  -22.765092\n",
       "Slc25a20  0.0   0.694318  -23.828932\n",
       "Decr1     0.0  -4.788302  -24.520847\n",
       "Eci1      0.0 -30.009751  -24.903944\n",
       "Acaa2     0.0 -22.010945  -25.757487\n",
       "Acaa1a/b  0.0  -8.927879  -26.370448\n",
       "Acot13    0.0 -57.794749  -39.305355"
      ]
     },
     "execution_count": 40,
     "metadata": {},
     "output_type": "execute_result"
    }
   ],
   "source": [
    "d"
   ]
  },
  {
   "cell_type": "code",
   "execution_count": 41,
   "metadata": {},
   "outputs": [
    {
     "name": "stderr",
     "output_type": "stream",
     "text": [
      "/home/perza/.local/lib/python3.6/site-packages/matplotlib/font_manager.py:1297: UserWarning: findfont: Font family ['sans-serif'] not found. Falling back to DejaVu Sans\n",
      "  (prop.get_family(), self.defaultFamily[fontext]))\n"
     ]
    },
    {
     "data": {
      "text/plain": [
       "<matplotlib.axes._subplots.AxesSubplot at 0x7f6e8ff9a4a8>"
      ]
     },
     "execution_count": 41,
     "metadata": {},
     "output_type": "execute_result"
    },
    {
     "data": {
      "image/png": "[encoded data removed]",
      "text/plain": [
       "<matplotlib.figure.Figure at 0x7f6e8ff15d30>"
      ]
     },
     "metadata": {},
     "output_type": "display_data"
    }
   ],
   "source": [
    "plt.figure(figsize=(5,14));\n",
    "sns.heatmap(d)#, square=True)"
   ]
  },
  {
   "cell_type": "code",
   "execution_count": null,
   "metadata": {
    "collapsed": true
   },
   "outputs": [],
   "source": []
  },
  {
   "cell_type": "code",
   "execution_count": null,
   "metadata": {
    "collapsed": true
   },
   "outputs": [],
   "source": []
  }
 ],
 "metadata": {
  "kernelspec": {
   "display_name": "Python 3",
   "language": "python",
   "name": "python3"
  },
  "language_info": {
   "codemirror_mode": {
    "name": "ipython",
    "version": 3
   },
   "file_extension": ".py",
   "mimetype": "text/x-python",
   "name": "python",
   "nbconvert_exporter": "python",
   "pygments_lexer": "ipython3",
   "version": "3.6.1"
  }
 },
 "nbformat": 4,
 "nbformat_minor": 2
}
